{
 "cells": [
  {
   "cell_type": "code",
   "execution_count": 1,
   "metadata": {},
   "outputs": [
    {
     "name": "stdout",
     "output_type": "stream",
     "text": [
      "Collecting slackbot\n",
      "  Downloading slackbot-1.0.0-py2.py3-none-any.whl (12 kB)\n",
      "Collecting websocket-client<=0.44.0,>=0.22.0\n",
      "  Downloading websocket_client-0.44.0-py2.py3-none-any.whl (199 kB)\n",
      "\u001b[K     |████████████████████████████████| 199 kB 1.2 MB/s eta 0:00:01\n",
      "\u001b[?25hCollecting slacker>=0.9.50\n",
      "  Downloading slacker-0.14.0.tar.gz (10 kB)\n",
      "Requirement already satisfied: six>=1.10.0 in /usr/lib/python3/dist-packages (from slackbot) (1.14.0)\n",
      "Requirement already satisfied: requests>=2.4.0 in /home/mizki/.local/lib/python3.8/site-packages (from slackbot) (2.28.1)\n",
      "Requirement already satisfied: certifi>=2017.4.17 in /usr/lib/python3/dist-packages (from requests>=2.4.0->slackbot) (2019.11.28)\n",
      "Requirement already satisfied: idna<4,>=2.5 in /usr/lib/python3/dist-packages (from requests>=2.4.0->slackbot) (2.8)\n",
      "Requirement already satisfied: charset-normalizer<3,>=2 in /home/mizki/.local/lib/python3.8/site-packages (from requests>=2.4.0->slackbot) (2.1.0)\n",
      "Requirement already satisfied: urllib3<1.27,>=1.21.1 in /usr/lib/python3/dist-packages (from requests>=2.4.0->slackbot) (1.25.8)\n",
      "Building wheels for collected packages: slacker\n",
      "  Building wheel for slacker (setup.py) ... \u001b[?25ldone\n",
      "\u001b[?25h  Created wheel for slacker: filename=slacker-0.14.0-py3-none-any.whl size=9396 sha256=753c380c18b01e5d84421ed2ef8f1a83f995bc8aa9879f21d5bc15bbd1f27017\n",
      "  Stored in directory: /home/mizki/.cache/pip/wheels/55/01/52/9a4c6fa96e0d78aeb76bbea0644dba1749cad7ee1745d869f2\n",
      "Successfully built slacker\n",
      "Installing collected packages: websocket-client, slacker, slackbot\n",
      "Successfully installed slackbot-1.0.0 slacker-0.14.0 websocket-client-0.44.0\n"
     ]
    }
   ],
   "source": [
    "!pip install slackbot\n"
   ]
  },
  {
   "cell_type": "code",
   "execution_count": null,
   "metadata": {},
   "outputs": [],
   "source": []
  }
 ],
 "metadata": {
  "kernelspec": {
   "display_name": "Python 3.8.10 64-bit",
   "language": "python",
   "name": "python3"
  },
  "language_info": {
   "codemirror_mode": {
    "name": "ipython",
    "version": 3
   },
   "file_extension": ".py",
   "mimetype": "text/x-python",
   "name": "python",
   "nbconvert_exporter": "python",
   "pygments_lexer": "ipython3",
   "version": "3.8.10"
  },
  "orig_nbformat": 4,
  "vscode": {
   "interpreter": {
    "hash": "916dbcbb3f70747c44a77c7bcd40155683ae19c65e1c03b4aa3499c5328201f1"
   }
  }
 },
 "nbformat": 4,
 "nbformat_minor": 2
}
