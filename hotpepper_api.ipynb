{
 "cells": [
  {
   "cell_type": "code",
   "execution_count": 1,
   "metadata": {},
   "outputs": [],
   "source": [
    "import requests"
   ]
  },
  {
   "cell_type": "code",
   "execution_count": 2,
   "metadata": {},
   "outputs": [],
   "source": [
    "URL = 'https://webservice.recruit.co.jp/hotpepper/gourmet/v1/'"
   ]
  },
  {
   "cell_type": "code",
   "execution_count": 3,
   "metadata": {},
   "outputs": [],
   "source": [
    "API_KEY = 'e6e93389e08500b0'"
   ]
  },
  {
   "cell_type": "code",
   "execution_count": 20,
   "metadata": {},
   "outputs": [],
   "source": [
    "params = {\n",
    "    'key': API_KEY,\n",
    "    'keyword': '札幌',\n",
    "    'format': 'json',\n",
    "    'count': 100\n",
    "}"
   ]
  },
  {
   "cell_type": "code",
   "execution_count": 21,
   "metadata": {},
   "outputs": [
    {
     "data": {
      "text/plain": [
       "<Response [200]>"
      ]
     },
     "execution_count": 21,
     "metadata": {},
     "output_type": "execute_result"
    }
   ],
   "source": [
    "res = requests.get(URL, params)\n",
    "res"
   ]
  },
  {
   "cell_type": "code",
   "execution_count": 22,
   "metadata": {},
   "outputs": [],
   "source": [
    "result = res.json()"
   ]
  },
  {
   "cell_type": "code",
   "execution_count": 23,
   "metadata": {},
   "outputs": [],
   "source": [
    "items = result['results']['shop']"
   ]
  },
  {
   "cell_type": "code",
   "execution_count": 24,
   "metadata": {},
   "outputs": [
    {
     "data": {
      "text/plain": [
       "100"
      ]
     },
     "execution_count": 24,
     "metadata": {},
     "output_type": "execute_result"
    }
   ],
   "source": [
    "len(items)"
   ]
  },
  {
   "cell_type": "code",
   "execution_count": 25,
   "metadata": {},
   "outputs": [],
   "source": [
    "import pandas as pd"
   ]
  },
  {
   "cell_type": "code",
   "execution_count": 27,
   "metadata": {},
   "outputs": [],
   "source": [
    "df = pd.DataFrame(items)"
   ]
  },
  {
   "cell_type": "code",
   "execution_count": 31,
   "metadata": {},
   "outputs": [
    {
     "data": {
      "text/html": [
       "<div>\n",
       "<style scoped>\n",
       "    .dataframe tbody tr th:only-of-type {\n",
       "        vertical-align: middle;\n",
       "    }\n",
       "\n",
       "    .dataframe tbody tr th {\n",
       "        vertical-align: top;\n",
       "    }\n",
       "\n",
       "    .dataframe thead th {\n",
       "        text-align: right;\n",
       "    }\n",
       "</style>\n",
       "<table border=\"1\" class=\"dataframe\">\n",
       "  <thead>\n",
       "    <tr style=\"text-align: right;\">\n",
       "      <th></th>\n",
       "      <th>access</th>\n",
       "      <th>address</th>\n",
       "      <th>band</th>\n",
       "      <th>barrier_free</th>\n",
       "      <th>budget</th>\n",
       "      <th>budget_memo</th>\n",
       "      <th>capacity</th>\n",
       "      <th>card</th>\n",
       "      <th>catch</th>\n",
       "      <th>charter</th>\n",
       "      <th>...</th>\n",
       "      <th>shop_detail_memo</th>\n",
       "      <th>show</th>\n",
       "      <th>small_area</th>\n",
       "      <th>station_name</th>\n",
       "      <th>sub_genre</th>\n",
       "      <th>tatami</th>\n",
       "      <th>tv</th>\n",
       "      <th>urls</th>\n",
       "      <th>wedding</th>\n",
       "      <th>wifi</th>\n",
       "    </tr>\n",
       "  </thead>\n",
       "  <tbody>\n",
       "    <tr>\n",
       "      <th>0</th>\n",
       "      <td>札幌駅南口より徒歩3分。ホテルパールシティー札幌さん隣のアストリア札幌ビル（1Fにワイン酒場...</td>\n",
       "      <td>北海道札幌市中央区北３条西２丁目1-27　アストリア札幌ビル　5Ｆ</td>\n",
       "      <td>不可</td>\n",
       "      <td>なし ：補助が必要の場合はスタッフに気軽にお申し付け下さい。</td>\n",
       "      <td>{'average': '2200円～2700円', 'code': 'B002', 'na...</td>\n",
       "      <td>お通し代439円(税込)</td>\n",
       "      <td>100</td>\n",
       "      <td>利用可</td>\n",
       "      <td>２時間飲放799円(税込)  メッセージ付きプレート♪</td>\n",
       "      <td>貸切可 ：要相談となりますが、ご希望の方はお気軽に店舗までご相談ください♪（貸切ができない場...</td>\n",
       "      <td>...</td>\n",
       "      <td>営業時間外の昼宴会なども承りますので、お気軽にお問い合わせ下さい。</td>\n",
       "      <td>なし</td>\n",
       "      <td>{'code': 'X501', 'name': '札幌駅'}</td>\n",
       "      <td>札幌</td>\n",
       "      <td>{'code': 'G002', 'name': 'ダイニングバー・バル'}</td>\n",
       "      <td>なし ：全席ソファ席をご用意のためお座敷はご用意しておりません。</td>\n",
       "      <td>なし</td>\n",
       "      <td>{'pc': 'https://www.hotpepper.jp/strJ000747942...</td>\n",
       "      <td>ウェディング2次会のご予約も受付中☆詳細などお気軽にご相談下さい！</td>\n",
       "      <td>未確認</td>\n",
       "    </tr>\n",
       "    <tr>\n",
       "      <th>1</th>\n",
       "      <td>札幌駅地下歩行空間3番出口目の前。1階が「びっくりドンキー」さんのビル4Fです。今だけしゃぶ...</td>\n",
       "      <td>北海道札幌市中央区北２条西３丁目第２５桂和ビル４F</td>\n",
       "      <td>不可</td>\n",
       "      <td>なし</td>\n",
       "      <td>{'average': '3500円【各種魅力のクーポンでお得にご利用下さい】/ランチ800...</td>\n",
       "      <td>通し代有/楽天カードはご利用頂けません。</td>\n",
       "      <td>80</td>\n",
       "      <td>利用可</td>\n",
       "      <td>2時間半飲み放題980円！ 札幌駅近！2名より個室OK</td>\n",
       "      <td>貸切不可 ：要相談</td>\n",
       "      <td>...</td>\n",
       "      <td>その他お問い合わせはお電話にて承ります。</td>\n",
       "      <td>なし</td>\n",
       "      <td>{'code': 'X501', 'name': '札幌駅'}</td>\n",
       "      <td>札幌</td>\n",
       "      <td>{'code': 'G004', 'name': '和食'}</td>\n",
       "      <td>なし</td>\n",
       "      <td>なし</td>\n",
       "      <td>{'pc': 'https://www.hotpepper.jp/strJ001040225...</td>\n",
       "      <td>ヴィラリゾート空間で素敵なウェディングPARTYを演出します。お気軽にご相談下さい。</td>\n",
       "      <td>未確認</td>\n",
       "    </tr>\n",
       "    <tr>\n",
       "      <th>2</th>\n",
       "      <td>札幌市営地下鉄東西線大通駅３６出口より徒歩約５分　KT3条ビル地下1F</td>\n",
       "      <td>北海道札幌市中央区南３条西２丁目６番地ＫＴ３条ビルＢ１</td>\n",
       "      <td>不可</td>\n",
       "      <td>なし</td>\n",
       "      <td>{'average': '3500円', 'code': 'B003', 'name': '...</td>\n",
       "      <td>席料としておひとり様150円(税込)を頂戴しております。</td>\n",
       "      <td>30</td>\n",
       "      <td>利用可</td>\n",
       "      <td>高品質なお肉が食べ放題 全席無煙ロースター付き</td>\n",
       "      <td>貸切不可 ：貸切不可とございますが、最低15名様から貸切可能です。お気軽にご相談ください。</td>\n",
       "      <td>...</td>\n",
       "      <td></td>\n",
       "      <td>なし</td>\n",
       "      <td>{'code': 'X502', 'name': '札幌大通'}</td>\n",
       "      <td>大通</td>\n",
       "      <td>{'code': 'G017', 'name': '韓国料理'}</td>\n",
       "      <td>なし</td>\n",
       "      <td>なし</td>\n",
       "      <td>{'pc': 'https://www.hotpepper.jp/strJ000027043...</td>\n",
       "      <td></td>\n",
       "      <td>あり</td>\n",
       "    </tr>\n",
       "  </tbody>\n",
       "</table>\n",
       "<p>3 rows × 52 columns</p>\n",
       "</div>"
      ],
      "text/plain": [
       "                                              access  \\\n",
       "0  札幌駅南口より徒歩3分。ホテルパールシティー札幌さん隣のアストリア札幌ビル（1Fにワイン酒場...   \n",
       "1  札幌駅地下歩行空間3番出口目の前。1階が「びっくりドンキー」さんのビル4Fです。今だけしゃぶ...   \n",
       "2                札幌市営地下鉄東西線大通駅３６出口より徒歩約５分　KT3条ビル地下1F   \n",
       "\n",
       "                              address band                    barrier_free  \\\n",
       "0  北海道札幌市中央区北３条西２丁目1-27　アストリア札幌ビル　5Ｆ    不可  なし ：補助が必要の場合はスタッフに気軽にお申し付け下さい。   \n",
       "1           北海道札幌市中央区北２条西３丁目第２５桂和ビル４F   不可                              なし   \n",
       "2         北海道札幌市中央区南３条西２丁目６番地ＫＴ３条ビルＢ１   不可                              なし   \n",
       "\n",
       "                                              budget  \\\n",
       "0  {'average': '2200円～2700円', 'code': 'B002', 'na...   \n",
       "1  {'average': '3500円【各種魅力のクーポンでお得にご利用下さい】/ランチ800...   \n",
       "2  {'average': '3500円', 'code': 'B003', 'name': '...   \n",
       "\n",
       "                    budget_memo  capacity card                        catch  \\\n",
       "0                  お通し代439円(税込)       100  利用可  ２時間飲放799円(税込)  メッセージ付きプレート♪   \n",
       "1          通し代有/楽天カードはご利用頂けません。        80  利用可  2時間半飲み放題980円！ 札幌駅近！2名より個室OK   \n",
       "2  席料としておひとり様150円(税込)を頂戴しております。        30  利用可      高品質なお肉が食べ放題 全席無煙ロースター付き   \n",
       "\n",
       "                                             charter  ...  \\\n",
       "0  貸切可 ：要相談となりますが、ご希望の方はお気軽に店舗までご相談ください♪（貸切ができない場...  ...   \n",
       "1                                          貸切不可 ：要相談  ...   \n",
       "2      貸切不可 ：貸切不可とございますが、最低15名様から貸切可能です。お気軽にご相談ください。  ...   \n",
       "\n",
       "                    shop_detail_memo show                        small_area  \\\n",
       "0  営業時間外の昼宴会なども承りますので、お気軽にお問い合わせ下さい。   なし   {'code': 'X501', 'name': '札幌駅'}   \n",
       "1               その他お問い合わせはお電話にて承ります。   なし   {'code': 'X501', 'name': '札幌駅'}   \n",
       "2                                      なし  {'code': 'X502', 'name': '札幌大通'}   \n",
       "\n",
       "  station_name                               sub_genre  \\\n",
       "0           札幌  {'code': 'G002', 'name': 'ダイニングバー・バル'}   \n",
       "1           札幌          {'code': 'G004', 'name': '和食'}   \n",
       "2           大通        {'code': 'G017', 'name': '韓国料理'}   \n",
       "\n",
       "                             tatami  tv  \\\n",
       "0  なし ：全席ソファ席をご用意のためお座敷はご用意しておりません。  なし   \n",
       "1                                なし  なし   \n",
       "2                                なし  なし   \n",
       "\n",
       "                                                urls  \\\n",
       "0  {'pc': 'https://www.hotpepper.jp/strJ000747942...   \n",
       "1  {'pc': 'https://www.hotpepper.jp/strJ001040225...   \n",
       "2  {'pc': 'https://www.hotpepper.jp/strJ000027043...   \n",
       "\n",
       "                                      wedding wifi  \n",
       "0           ウェディング2次会のご予約も受付中☆詳細などお気軽にご相談下さい！  未確認  \n",
       "1  ヴィラリゾート空間で素敵なウェディングPARTYを演出します。お気軽にご相談下さい。  未確認  \n",
       "2                                               あり  \n",
       "\n",
       "[3 rows x 52 columns]"
      ]
     },
     "execution_count": 31,
     "metadata": {},
     "output_type": "execute_result"
    }
   ],
   "source": [
    "df.head(3)"
   ]
  },
  {
   "cell_type": "code",
   "execution_count": 33,
   "metadata": {},
   "outputs": [
    {
     "data": {
      "text/plain": [
       "Index(['access', 'address', 'band', 'barrier_free', 'budget', 'budget_memo',\n",
       "       'capacity', 'card', 'catch', 'charter', 'child', 'close', 'coupon_urls',\n",
       "       'course', 'english', 'free_drink', 'free_food', 'genre', 'horigotatsu',\n",
       "       'id', 'karaoke', 'ktai_coupon', 'large_area', 'large_service_area',\n",
       "       'lat', 'lng', 'logo_image', 'lunch', 'middle_area', 'midnight',\n",
       "       'mobile_access', 'name', 'name_kana', 'non_smoking', 'open',\n",
       "       'other_memo', 'parking', 'party_capacity', 'pet', 'photo',\n",
       "       'private_room', 'service_area', 'shop_detail_memo', 'show',\n",
       "       'small_area', 'station_name', 'sub_genre', 'tatami', 'tv', 'urls',\n",
       "       'wedding', 'wifi'],\n",
       "      dtype='object')"
      ]
     },
     "execution_count": 33,
     "metadata": {},
     "output_type": "execute_result"
    }
   ],
   "source": [
    "df.columns"
   ]
  },
  {
   "cell_type": "code",
   "execution_count": 37,
   "metadata": {},
   "outputs": [],
   "source": [
    "df = df[['name', 'address',  'wifi']]"
   ]
  },
  {
   "cell_type": "code",
   "execution_count": 38,
   "metadata": {},
   "outputs": [
    {
     "data": {
      "text/html": [
       "<div>\n",
       "<style scoped>\n",
       "    .dataframe tbody tr th:only-of-type {\n",
       "        vertical-align: middle;\n",
       "    }\n",
       "\n",
       "    .dataframe tbody tr th {\n",
       "        vertical-align: top;\n",
       "    }\n",
       "\n",
       "    .dataframe thead th {\n",
       "        text-align: right;\n",
       "    }\n",
       "</style>\n",
       "<table border=\"1\" class=\"dataframe\">\n",
       "  <thead>\n",
       "    <tr style=\"text-align: right;\">\n",
       "      <th></th>\n",
       "      <th>name</th>\n",
       "      <th>address</th>\n",
       "      <th>wifi</th>\n",
       "    </tr>\n",
       "  </thead>\n",
       "  <tbody>\n",
       "    <tr>\n",
       "      <th>0</th>\n",
       "      <td>カジュアル スパニッシュイタリアン エスパニョール</td>\n",
       "      <td>北海道札幌市中央区北３条西２丁目1-27　アストリア札幌ビル　5Ｆ</td>\n",
       "      <td>未確認</td>\n",
       "    </tr>\n",
       "  </tbody>\n",
       "</table>\n",
       "</div>"
      ],
      "text/plain": [
       "                        name                             address wifi\n",
       "0  カジュアル スパニッシュイタリアン エスパニョール  北海道札幌市中央区北３条西２丁目1-27　アストリア札幌ビル　5Ｆ   未確認"
      ]
     },
     "execution_count": 38,
     "metadata": {},
     "output_type": "execute_result"
    }
   ],
   "source": [
    "df.head(1)"
   ]
  },
  {
   "cell_type": "code",
   "execution_count": null,
   "metadata": {},
   "outputs": [],
   "source": [
    "df.to_csv('hotpepper.csv', index=False)"
   ]
  }
 ],
 "metadata": {
  "kernelspec": {
   "display_name": "Python 3.8.10 64-bit",
   "language": "python",
   "name": "python3"
  },
  "language_info": {
   "codemirror_mode": {
    "name": "ipython",
    "version": 3
   },
   "file_extension": ".py",
   "mimetype": "text/x-python",
   "name": "python",
   "nbconvert_exporter": "python",
   "pygments_lexer": "ipython3",
   "version": "3.8.10"
  },
  "orig_nbformat": 4,
  "vscode": {
   "interpreter": {
    "hash": "916dbcbb3f70747c44a77c7bcd40155683ae19c65e1c03b4aa3499c5328201f1"
   }
  }
 },
 "nbformat": 4,
 "nbformat_minor": 2
}
