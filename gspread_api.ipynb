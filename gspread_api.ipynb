{
 "cells": [
  {
   "cell_type": "code",
   "execution_count": 1,
   "metadata": {},
   "outputs": [
    {
     "name": "stdout",
     "output_type": "stream",
     "text": [
      "Requirement already satisfied: gspread in /home/mizki/.local/lib/python3.8/site-packages (5.4.0)\n",
      "Requirement already satisfied: google-auth-oauthlib>=0.4.1 in /home/mizki/.local/lib/python3.8/site-packages (from gspread) (0.5.2)\n",
      "Requirement already satisfied: google-auth>=1.12.0 in /home/mizki/.local/lib/python3.8/site-packages (from gspread) (2.9.1)\n",
      "Requirement already satisfied: requests-oauthlib>=0.7.0 in /home/mizki/.local/lib/python3.8/site-packages (from google-auth-oauthlib>=0.4.1->gspread) (1.3.1)\n",
      "Requirement already satisfied: rsa<5,>=3.1.4; python_version >= \"3.6\" in /home/mizki/.local/lib/python3.8/site-packages (from google-auth>=1.12.0->gspread) (4.9)\n",
      "Requirement already satisfied: six>=1.9.0 in /usr/lib/python3/dist-packages (from google-auth>=1.12.0->gspread) (1.14.0)\n",
      "Requirement already satisfied: pyasn1-modules>=0.2.1 in /usr/lib/python3/dist-packages (from google-auth>=1.12.0->gspread) (0.2.1)\n",
      "Requirement already satisfied: cachetools<6.0,>=2.0.0 in /home/mizki/.local/lib/python3.8/site-packages (from google-auth>=1.12.0->gspread) (5.2.0)\n",
      "Requirement already satisfied: oauthlib>=3.0.0 in /usr/lib/python3/dist-packages (from requests-oauthlib>=0.7.0->google-auth-oauthlib>=0.4.1->gspread) (3.1.0)\n",
      "Requirement already satisfied: requests>=2.0.0 in /home/mizki/.local/lib/python3.8/site-packages (from requests-oauthlib>=0.7.0->google-auth-oauthlib>=0.4.1->gspread) (2.28.1)\n",
      "Requirement already satisfied: pyasn1>=0.1.3 in /usr/lib/python3/dist-packages (from rsa<5,>=3.1.4; python_version >= \"3.6\"->google-auth>=1.12.0->gspread) (0.4.2)\n",
      "Requirement already satisfied: urllib3<1.27,>=1.21.1 in /usr/lib/python3/dist-packages (from requests>=2.0.0->requests-oauthlib>=0.7.0->google-auth-oauthlib>=0.4.1->gspread) (1.25.8)\n",
      "Requirement already satisfied: charset-normalizer<3,>=2 in /home/mizki/.local/lib/python3.8/site-packages (from requests>=2.0.0->requests-oauthlib>=0.7.0->google-auth-oauthlib>=0.4.1->gspread) (2.1.0)\n",
      "Requirement already satisfied: certifi>=2017.4.17 in /usr/lib/python3/dist-packages (from requests>=2.0.0->requests-oauthlib>=0.7.0->google-auth-oauthlib>=0.4.1->gspread) (2019.11.28)\n",
      "Requirement already satisfied: idna<4,>=2.5 in /usr/lib/python3/dist-packages (from requests>=2.0.0->requests-oauthlib>=0.7.0->google-auth-oauthlib>=0.4.1->gspread) (2.8)\n",
      "Requirement already satisfied: google-auth in /home/mizki/.local/lib/python3.8/site-packages (2.9.1)\n",
      "Requirement already satisfied: cachetools<6.0,>=2.0.0 in /home/mizki/.local/lib/python3.8/site-packages (from google-auth) (5.2.0)\n",
      "Requirement already satisfied: rsa<5,>=3.1.4; python_version >= \"3.6\" in /home/mizki/.local/lib/python3.8/site-packages (from google-auth) (4.9)\n",
      "Requirement already satisfied: six>=1.9.0 in /usr/lib/python3/dist-packages (from google-auth) (1.14.0)\n",
      "Requirement already satisfied: pyasn1-modules>=0.2.1 in /usr/lib/python3/dist-packages (from google-auth) (0.2.1)\n",
      "Requirement already satisfied: pyasn1>=0.1.3 in /usr/lib/python3/dist-packages (from rsa<5,>=3.1.4; python_version >= \"3.6\"->google-auth) (0.4.2)\n"
     ]
    }
   ],
   "source": [
    "!pip install gspread\n",
    "!pip install google-auth"
   ]
  },
  {
   "cell_type": "code",
   "execution_count": 2,
   "metadata": {},
   "outputs": [],
   "source": [
    "from google.oauth2.service_account import Credentials\n",
    "import gspread\n",
    "\n",
    "scopes = [\n",
    "    'https://www.googleapis.com/auth/spreadsheets',\n",
    "    'https://www.googleapis.com/auth/drive'\n",
    "]\n",
    "\n",
    "credentials = Credentials.from_service_account_file(\n",
    "    'google_secret.json',\n",
    "    scopes=scopes\n",
    ")\n",
    "\n",
    "gc = gspread.authorize(credentials)"
   ]
  },
  {
   "cell_type": "code",
   "execution_count": 3,
   "metadata": {},
   "outputs": [],
   "source": [
    "SP_SHEET_KEY = '1e5BGvZIYv1t4G2uoy--q22_6byKJiQO2ux-nybx4MZs'\n",
    "SP_SHEET = 'demo'"
   ]
  },
  {
   "cell_type": "code",
   "execution_count": 4,
   "metadata": {},
   "outputs": [],
   "source": [
    "sh = gc.open_by_key(SP_SHEET_KEY)"
   ]
  },
  {
   "cell_type": "code",
   "execution_count": 5,
   "metadata": {},
   "outputs": [],
   "source": [
    "worksheet = sh.worksheet(SP_SHEET)\n"
   ]
  },
  {
   "cell_type": "code",
   "execution_count": 6,
   "metadata": {},
   "outputs": [
    {
     "data": {
      "text/plain": [
       "[['', '', '', '', ''],\n",
       " ['', '社員ID', '氏名', '年齢', '所属'],\n",
       " ['', '80', '佐藤', '39', '総務部'],\n",
       " ['', '71', '鈴木', '28', '人事部'],\n",
       " ['', '9', '岩橋', '30', '経理部'],\n",
       " ['', '4', '小泉', '29', '技術部'],\n",
       " ['', '76', '今西', '41', '総務部'],\n",
       " ['', '16', '斎藤', '23', '企画開発部'],\n",
       " ['', '25', '高橋', '44', '技術部'],\n",
       " ['', '80', '中村', '35', '技術部'],\n",
       " ['', '29', '吉田', '33', '企画開発部'],\n",
       " ['', '43', '前田', '44', '開発部']]"
      ]
     },
     "execution_count": 6,
     "metadata": {},
     "output_type": "execute_result"
    }
   ],
   "source": [
    "data = worksheet.get_all_values()\n",
    "data"
   ]
  },
  {
   "cell_type": "code",
   "execution_count": 7,
   "metadata": {},
   "outputs": [],
   "source": [
    "import pandas as pd"
   ]
  },
  {
   "cell_type": "code",
   "execution_count": 8,
   "metadata": {},
   "outputs": [],
   "source": [
    "df = pd.DataFrame(data[2:], columns=data[1])"
   ]
  },
  {
   "cell_type": "code",
   "execution_count": 9,
   "metadata": {},
   "outputs": [
    {
     "data": {
      "text/html": [
       "<div>\n",
       "<style scoped>\n",
       "    .dataframe tbody tr th:only-of-type {\n",
       "        vertical-align: middle;\n",
       "    }\n",
       "\n",
       "    .dataframe tbody tr th {\n",
       "        vertical-align: top;\n",
       "    }\n",
       "\n",
       "    .dataframe thead th {\n",
       "        text-align: right;\n",
       "    }\n",
       "</style>\n",
       "<table border=\"1\" class=\"dataframe\">\n",
       "  <thead>\n",
       "    <tr style=\"text-align: right;\">\n",
       "      <th></th>\n",
       "      <th>社員ID</th>\n",
       "      <th>氏名</th>\n",
       "      <th>年齢</th>\n",
       "      <th>所属</th>\n",
       "    </tr>\n",
       "  </thead>\n",
       "  <tbody>\n",
       "    <tr>\n",
       "      <th>0</th>\n",
       "      <td>80</td>\n",
       "      <td>佐藤</td>\n",
       "      <td>39</td>\n",
       "      <td>総務部</td>\n",
       "    </tr>\n",
       "    <tr>\n",
       "      <th>1</th>\n",
       "      <td>71</td>\n",
       "      <td>鈴木</td>\n",
       "      <td>28</td>\n",
       "      <td>人事部</td>\n",
       "    </tr>\n",
       "    <tr>\n",
       "      <th>2</th>\n",
       "      <td>9</td>\n",
       "      <td>岩橋</td>\n",
       "      <td>30</td>\n",
       "      <td>経理部</td>\n",
       "    </tr>\n",
       "    <tr>\n",
       "      <th>3</th>\n",
       "      <td>4</td>\n",
       "      <td>小泉</td>\n",
       "      <td>29</td>\n",
       "      <td>技術部</td>\n",
       "    </tr>\n",
       "    <tr>\n",
       "      <th>4</th>\n",
       "      <td>76</td>\n",
       "      <td>今西</td>\n",
       "      <td>41</td>\n",
       "      <td>総務部</td>\n",
       "    </tr>\n",
       "    <tr>\n",
       "      <th>5</th>\n",
       "      <td>16</td>\n",
       "      <td>斎藤</td>\n",
       "      <td>23</td>\n",
       "      <td>企画開発部</td>\n",
       "    </tr>\n",
       "    <tr>\n",
       "      <th>6</th>\n",
       "      <td>25</td>\n",
       "      <td>高橋</td>\n",
       "      <td>44</td>\n",
       "      <td>技術部</td>\n",
       "    </tr>\n",
       "    <tr>\n",
       "      <th>7</th>\n",
       "      <td>80</td>\n",
       "      <td>中村</td>\n",
       "      <td>35</td>\n",
       "      <td>技術部</td>\n",
       "    </tr>\n",
       "    <tr>\n",
       "      <th>8</th>\n",
       "      <td>29</td>\n",
       "      <td>吉田</td>\n",
       "      <td>33</td>\n",
       "      <td>企画開発部</td>\n",
       "    </tr>\n",
       "    <tr>\n",
       "      <th>9</th>\n",
       "      <td>43</td>\n",
       "      <td>前田</td>\n",
       "      <td>44</td>\n",
       "      <td>開発部</td>\n",
       "    </tr>\n",
       "  </tbody>\n",
       "</table>\n",
       "</div>"
      ],
      "text/plain": [
       "  社員ID  氏名  年齢     所属\n",
       "0   80  佐藤  39    総務部\n",
       "1   71  鈴木  28    人事部\n",
       "2    9  岩橋  30    経理部\n",
       "3    4  小泉  29    技術部\n",
       "4   76  今西  41    総務部\n",
       "5   16  斎藤  23  企画開発部\n",
       "6   25  高橋  44    技術部\n",
       "7   80  中村  35    技術部\n",
       "8   29  吉田  33  企画開発部\n",
       "9   43  前田  44    開発部"
      ]
     },
     "execution_count": 9,
     "metadata": {},
     "output_type": "execute_result"
    }
   ],
   "source": [
    "df = df.drop(df.columns[[0]], axis=1)\n",
    "df"
   ]
  },
  {
   "cell_type": "code",
   "execution_count": 10,
   "metadata": {},
   "outputs": [],
   "source": [
    "df = df.astype({'年齢': int, '社員ID': int})"
   ]
  },
  {
   "cell_type": "code",
   "execution_count": 11,
   "metadata": {},
   "outputs": [
    {
     "data": {
      "text/html": [
       "<div>\n",
       "<style scoped>\n",
       "    .dataframe tbody tr th:only-of-type {\n",
       "        vertical-align: middle;\n",
       "    }\n",
       "\n",
       "    .dataframe tbody tr th {\n",
       "        vertical-align: top;\n",
       "    }\n",
       "\n",
       "    .dataframe thead th {\n",
       "        text-align: right;\n",
       "    }\n",
       "</style>\n",
       "<table border=\"1\" class=\"dataframe\">\n",
       "  <thead>\n",
       "    <tr style=\"text-align: right;\">\n",
       "      <th></th>\n",
       "      <th>年齢</th>\n",
       "    </tr>\n",
       "    <tr>\n",
       "      <th>所属</th>\n",
       "      <th></th>\n",
       "    </tr>\n",
       "  </thead>\n",
       "  <tbody>\n",
       "    <tr>\n",
       "      <th>人事部</th>\n",
       "      <td>28</td>\n",
       "    </tr>\n",
       "    <tr>\n",
       "      <th>企画開発部</th>\n",
       "      <td>28</td>\n",
       "    </tr>\n",
       "    <tr>\n",
       "      <th>技術部</th>\n",
       "      <td>36</td>\n",
       "    </tr>\n",
       "    <tr>\n",
       "      <th>経理部</th>\n",
       "      <td>30</td>\n",
       "    </tr>\n",
       "    <tr>\n",
       "      <th>総務部</th>\n",
       "      <td>40</td>\n",
       "    </tr>\n",
       "    <tr>\n",
       "      <th>開発部</th>\n",
       "      <td>44</td>\n",
       "    </tr>\n",
       "  </tbody>\n",
       "</table>\n",
       "</div>"
      ],
      "text/plain": [
       "       年齢\n",
       "所属       \n",
       "人事部    28\n",
       "企画開発部  28\n",
       "技術部    36\n",
       "経理部    30\n",
       "総務部    40\n",
       "開発部    44"
      ]
     },
     "execution_count": 11,
     "metadata": {},
     "output_type": "execute_result"
    }
   ],
   "source": [
    "pvt_table = df.pivot_table(index=['所属'], values=['年齢'], aggfunc='mean')\n",
    "pvt_table"
   ]
  },
  {
   "cell_type": "code",
   "execution_count": 12,
   "metadata": {},
   "outputs": [],
   "source": [
    "pvt_table['年齢'] = pvt_table['年齢'].round()"
   ]
  },
  {
   "cell_type": "code",
   "execution_count": 13,
   "metadata": {},
   "outputs": [
    {
     "data": {
      "text/html": [
       "<div>\n",
       "<style scoped>\n",
       "    .dataframe tbody tr th:only-of-type {\n",
       "        vertical-align: middle;\n",
       "    }\n",
       "\n",
       "    .dataframe tbody tr th {\n",
       "        vertical-align: top;\n",
       "    }\n",
       "\n",
       "    .dataframe thead th {\n",
       "        text-align: right;\n",
       "    }\n",
       "</style>\n",
       "<table border=\"1\" class=\"dataframe\">\n",
       "  <thead>\n",
       "    <tr style=\"text-align: right;\">\n",
       "      <th></th>\n",
       "      <th>年齢</th>\n",
       "    </tr>\n",
       "    <tr>\n",
       "      <th>所属</th>\n",
       "      <th></th>\n",
       "    </tr>\n",
       "  </thead>\n",
       "  <tbody>\n",
       "    <tr>\n",
       "      <th>人事部</th>\n",
       "      <td>28</td>\n",
       "    </tr>\n",
       "    <tr>\n",
       "      <th>企画開発部</th>\n",
       "      <td>28</td>\n",
       "    </tr>\n",
       "    <tr>\n",
       "      <th>技術部</th>\n",
       "      <td>36</td>\n",
       "    </tr>\n",
       "    <tr>\n",
       "      <th>経理部</th>\n",
       "      <td>30</td>\n",
       "    </tr>\n",
       "    <tr>\n",
       "      <th>総務部</th>\n",
       "      <td>40</td>\n",
       "    </tr>\n",
       "    <tr>\n",
       "      <th>開発部</th>\n",
       "      <td>44</td>\n",
       "    </tr>\n",
       "  </tbody>\n",
       "</table>\n",
       "</div>"
      ],
      "text/plain": [
       "       年齢\n",
       "所属       \n",
       "人事部    28\n",
       "企画開発部  28\n",
       "技術部    36\n",
       "経理部    30\n",
       "総務部    40\n",
       "開発部    44"
      ]
     },
     "execution_count": 13,
     "metadata": {},
     "output_type": "execute_result"
    }
   ],
   "source": [
    "pvt_table"
   ]
  },
  {
   "cell_type": "code",
   "execution_count": 14,
   "metadata": {},
   "outputs": [],
   "source": [
    "new_worksheet = sh.add_worksheet(title='new', rows=100, cols=100)"
   ]
  },
  {
   "cell_type": "code",
   "execution_count": 15,
   "metadata": {},
   "outputs": [
    {
     "name": "stdout",
     "output_type": "stream",
     "text": [
      "Requirement already satisfied: gspread-dataframe in /home/mizki/.local/lib/python3.8/site-packages (3.3.0)\n",
      "Requirement already satisfied: pandas>=0.24.0 in /home/mizki/.local/lib/python3.8/site-packages (from gspread-dataframe) (1.4.3)\n",
      "Requirement already satisfied: gspread>=3.0.0 in /home/mizki/.local/lib/python3.8/site-packages (from gspread-dataframe) (5.4.0)\n",
      "Requirement already satisfied: six>=1.12.0 in /usr/lib/python3/dist-packages (from gspread-dataframe) (1.14.0)\n",
      "Requirement already satisfied: pytz>=2020.1 in /home/mizki/.local/lib/python3.8/site-packages (from pandas>=0.24.0->gspread-dataframe) (2022.1)\n",
      "Requirement already satisfied: python-dateutil>=2.8.1 in /home/mizki/.local/lib/python3.8/site-packages (from pandas>=0.24.0->gspread-dataframe) (2.8.2)\n",
      "Requirement already satisfied: numpy>=1.18.5; platform_machine != \"aarch64\" and platform_machine != \"arm64\" and python_version < \"3.10\" in /home/mizki/.local/lib/python3.8/site-packages (from pandas>=0.24.0->gspread-dataframe) (1.23.1)\n",
      "Requirement already satisfied: google-auth>=1.12.0 in /home/mizki/.local/lib/python3.8/site-packages (from gspread>=3.0.0->gspread-dataframe) (2.9.1)\n",
      "Requirement already satisfied: google-auth-oauthlib>=0.4.1 in /home/mizki/.local/lib/python3.8/site-packages (from gspread>=3.0.0->gspread-dataframe) (0.5.2)\n",
      "Requirement already satisfied: pyasn1-modules>=0.2.1 in /usr/lib/python3/dist-packages (from google-auth>=1.12.0->gspread>=3.0.0->gspread-dataframe) (0.2.1)\n",
      "Requirement already satisfied: cachetools<6.0,>=2.0.0 in /home/mizki/.local/lib/python3.8/site-packages (from google-auth>=1.12.0->gspread>=3.0.0->gspread-dataframe) (5.2.0)\n",
      "Requirement already satisfied: rsa<5,>=3.1.4; python_version >= \"3.6\" in /home/mizki/.local/lib/python3.8/site-packages (from google-auth>=1.12.0->gspread>=3.0.0->gspread-dataframe) (4.9)\n",
      "Requirement already satisfied: requests-oauthlib>=0.7.0 in /home/mizki/.local/lib/python3.8/site-packages (from google-auth-oauthlib>=0.4.1->gspread>=3.0.0->gspread-dataframe) (1.3.1)\n",
      "Requirement already satisfied: pyasn1>=0.1.3 in /usr/lib/python3/dist-packages (from rsa<5,>=3.1.4; python_version >= \"3.6\"->google-auth>=1.12.0->gspread>=3.0.0->gspread-dataframe) (0.4.2)\n",
      "Requirement already satisfied: requests>=2.0.0 in /home/mizki/.local/lib/python3.8/site-packages (from requests-oauthlib>=0.7.0->google-auth-oauthlib>=0.4.1->gspread>=3.0.0->gspread-dataframe) (2.28.1)\n",
      "Requirement already satisfied: oauthlib>=3.0.0 in /usr/lib/python3/dist-packages (from requests-oauthlib>=0.7.0->google-auth-oauthlib>=0.4.1->gspread>=3.0.0->gspread-dataframe) (3.1.0)\n",
      "Requirement already satisfied: idna<4,>=2.5 in /usr/lib/python3/dist-packages (from requests>=2.0.0->requests-oauthlib>=0.7.0->google-auth-oauthlib>=0.4.1->gspread>=3.0.0->gspread-dataframe) (2.8)\n",
      "Requirement already satisfied: urllib3<1.27,>=1.21.1 in /usr/lib/python3/dist-packages (from requests>=2.0.0->requests-oauthlib>=0.7.0->google-auth-oauthlib>=0.4.1->gspread>=3.0.0->gspread-dataframe) (1.25.8)\n",
      "Requirement already satisfied: charset-normalizer<3,>=2 in /home/mizki/.local/lib/python3.8/site-packages (from requests>=2.0.0->requests-oauthlib>=0.7.0->google-auth-oauthlib>=0.4.1->gspread>=3.0.0->gspread-dataframe) (2.1.0)\n",
      "Requirement already satisfied: certifi>=2017.4.17 in /usr/lib/python3/dist-packages (from requests>=2.0.0->requests-oauthlib>=0.7.0->google-auth-oauthlib>=0.4.1->gspread>=3.0.0->gspread-dataframe) (2019.11.28)\n"
     ]
    }
   ],
   "source": [
    "!pip install gspread-dataframe"
   ]
  },
  {
   "cell_type": "code",
   "execution_count": 16,
   "metadata": {},
   "outputs": [],
   "source": [
    "from gspread_dataframe import set_with_dataframe"
   ]
  },
  {
   "cell_type": "code",
   "execution_count": 17,
   "metadata": {},
   "outputs": [],
   "source": [
    "first_row = 2\n",
    "first_col = 2"
   ]
  },
  {
   "cell_type": "code",
   "execution_count": 18,
   "metadata": {},
   "outputs": [],
   "source": [
    "set_with_dataframe(new_worksheet, pvt_table.reset_index(), row=first_row, col=first_col)"
   ]
  },
  {
   "cell_type": "code",
   "execution_count": 19,
   "metadata": {},
   "outputs": [],
   "source": [
    "header_range = 'B2:C2'\n",
    "index_range = 'B3:B8'\n",
    "value_range = 'C3:C8'\n"
   ]
  },
  {
   "cell_type": "code",
   "execution_count": 20,
   "metadata": {},
   "outputs": [
    {
     "name": "stdout",
     "output_type": "stream",
     "text": [
      "Collecting gspread-formatting\n",
      "  Downloading gspread_formatting-1.0.6-py2.py3-none-any.whl (21 kB)\n",
      "Requirement already satisfied: gspread>=3.0.0 in /home/mizki/.local/lib/python3.8/site-packages (from gspread-formatting) (5.4.0)\n",
      "Requirement already satisfied: google-auth-oauthlib>=0.4.1 in /home/mizki/.local/lib/python3.8/site-packages (from gspread>=3.0.0->gspread-formatting) (0.5.2)\n",
      "Requirement already satisfied: google-auth>=1.12.0 in /home/mizki/.local/lib/python3.8/site-packages (from gspread>=3.0.0->gspread-formatting) (2.9.1)\n",
      "Requirement already satisfied: requests-oauthlib>=0.7.0 in /home/mizki/.local/lib/python3.8/site-packages (from google-auth-oauthlib>=0.4.1->gspread>=3.0.0->gspread-formatting) (1.3.1)\n",
      "Requirement already satisfied: pyasn1-modules>=0.2.1 in /usr/lib/python3/dist-packages (from google-auth>=1.12.0->gspread>=3.0.0->gspread-formatting) (0.2.1)\n",
      "Requirement already satisfied: rsa<5,>=3.1.4; python_version >= \"3.6\" in /home/mizki/.local/lib/python3.8/site-packages (from google-auth>=1.12.0->gspread>=3.0.0->gspread-formatting) (4.9)\n",
      "Requirement already satisfied: six>=1.9.0 in /usr/lib/python3/dist-packages (from google-auth>=1.12.0->gspread>=3.0.0->gspread-formatting) (1.14.0)\n",
      "Requirement already satisfied: cachetools<6.0,>=2.0.0 in /home/mizki/.local/lib/python3.8/site-packages (from google-auth>=1.12.0->gspread>=3.0.0->gspread-formatting) (5.2.0)\n",
      "Requirement already satisfied: oauthlib>=3.0.0 in /usr/lib/python3/dist-packages (from requests-oauthlib>=0.7.0->google-auth-oauthlib>=0.4.1->gspread>=3.0.0->gspread-formatting) (3.1.0)\n",
      "Requirement already satisfied: requests>=2.0.0 in /home/mizki/.local/lib/python3.8/site-packages (from requests-oauthlib>=0.7.0->google-auth-oauthlib>=0.4.1->gspread>=3.0.0->gspread-formatting) (2.28.1)\n",
      "Requirement already satisfied: pyasn1>=0.1.3 in /usr/lib/python3/dist-packages (from rsa<5,>=3.1.4; python_version >= \"3.6\"->google-auth>=1.12.0->gspread>=3.0.0->gspread-formatting) (0.4.2)\n",
      "Requirement already satisfied: urllib3<1.27,>=1.21.1 in /usr/lib/python3/dist-packages (from requests>=2.0.0->requests-oauthlib>=0.7.0->google-auth-oauthlib>=0.4.1->gspread>=3.0.0->gspread-formatting) (1.25.8)\n",
      "Requirement already satisfied: certifi>=2017.4.17 in /usr/lib/python3/dist-packages (from requests>=2.0.0->requests-oauthlib>=0.7.0->google-auth-oauthlib>=0.4.1->gspread>=3.0.0->gspread-formatting) (2019.11.28)\n",
      "Requirement already satisfied: idna<4,>=2.5 in /usr/lib/python3/dist-packages (from requests>=2.0.0->requests-oauthlib>=0.7.0->google-auth-oauthlib>=0.4.1->gspread>=3.0.0->gspread-formatting) (2.8)\n",
      "Requirement already satisfied: charset-normalizer<3,>=2 in /home/mizki/.local/lib/python3.8/site-packages (from requests>=2.0.0->requests-oauthlib>=0.7.0->google-auth-oauthlib>=0.4.1->gspread>=3.0.0->gspread-formatting) (2.1.0)\n",
      "Installing collected packages: gspread-formatting\n",
      "Successfully installed gspread-formatting-1.0.6\n"
     ]
    }
   ],
   "source": [
    "!pip install gspread-formatting"
   ]
  },
  {
   "cell_type": "code",
   "execution_count": 21,
   "metadata": {},
   "outputs": [],
   "source": [
    "from gspread_formatting import *"
   ]
  },
  {
   "cell_type": "code",
   "execution_count": 24,
   "metadata": {},
   "outputs": [],
   "source": [
    "header_fmt = cellFormat(\n",
    "    backgroundColor=color(38/255, 166/255, 154/255),\n",
    "    textFormat=textFormat(bold=True, foregroundColor=color(255/255, 255/255, 255/255)),\n",
    "    horizontalAlignment= 'CENTER'\n",
    ")"
   ]
  },
  {
   "cell_type": "code",
   "execution_count": 25,
   "metadata": {},
   "outputs": [
    {
     "data": {
      "text/plain": [
       "{'spreadsheetId': '1e5BGvZIYv1t4G2uoy--q22_6byKJiQO2ux-nybx4MZs',\n",
       " 'replies': [{}]}"
      ]
     },
     "execution_count": 25,
     "metadata": {},
     "output_type": "execute_result"
    }
   ],
   "source": [
    "format_cell_range(new_worksheet, header_range, header_fmt)"
   ]
  },
  {
   "cell_type": "code",
   "execution_count": 27,
   "metadata": {},
   "outputs": [
    {
     "data": {
      "text/plain": [
       "{'spreadsheetId': '1e5BGvZIYv1t4G2uoy--q22_6byKJiQO2ux-nybx4MZs',\n",
       " 'replies': [{}]}"
      ]
     },
     "execution_count": 27,
     "metadata": {},
     "output_type": "execute_result"
    }
   ],
   "source": [
    "border = Border(\"SOLID\", Color(0, 0, 0, 0))\n",
    "fmt = CellFormat(borders=Borders(top=border, bottom=border, left=border, right=border))\n",
    "format_cell_range(new_worksheet, header_range, fmt)"
   ]
  },
  {
   "cell_type": "code",
   "execution_count": 28,
   "metadata": {},
   "outputs": [
    {
     "data": {
      "text/plain": [
       "{'spreadsheetId': '1e5BGvZIYv1t4G2uoy--q22_6byKJiQO2ux-nybx4MZs',\n",
       " 'replies': [{}]}"
      ]
     },
     "execution_count": 28,
     "metadata": {},
     "output_type": "execute_result"
    }
   ],
   "source": [
    "format_cell_range(new_worksheet, index_range, fmt)\n",
    "format_cell_range(new_worksheet, value_range, fmt)"
   ]
  }
 ],
 "metadata": {
  "kernelspec": {
   "display_name": "Python 3.8.10 64-bit",
   "language": "python",
   "name": "python3"
  },
  "language_info": {
   "codemirror_mode": {
    "name": "ipython",
    "version": 3
   },
   "file_extension": ".py",
   "mimetype": "text/x-python",
   "name": "python",
   "nbconvert_exporter": "python",
   "pygments_lexer": "ipython3",
   "version": "3.8.10"
  },
  "orig_nbformat": 4,
  "vscode": {
   "interpreter": {
    "hash": "916dbcbb3f70747c44a77c7bcd40155683ae19c65e1c03b4aa3499c5328201f1"
   }
  }
 },
 "nbformat": 4,
 "nbformat_minor": 2
}
